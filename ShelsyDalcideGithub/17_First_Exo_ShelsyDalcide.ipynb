{
 "cells": [
  {
   "cell_type": "code",
   "execution_count": 3,
   "metadata": {},
   "outputs": [],
   "source": [
    "import numpy as np"
   ]
  },
  {
   "cell_type": "markdown",
   "metadata": {},
   "source": [
    "### 1. Import numpy as np and see the version"
   ]
  },
  {
   "cell_type": "markdown",
   "metadata": {},
   "source": [
    "1. Q. Import numpy as np and print the version number."
   ]
  },
  {
   "cell_type": "code",
   "execution_count": 4,
   "metadata": {},
   "outputs": [
    {
     "data": {
      "text/plain": [
       "'1.16.5'"
      ]
     },
     "execution_count": 4,
     "metadata": {},
     "output_type": "execute_result"
    }
   ],
   "source": [
    "import numpy as np\n",
    "np.version.version"
   ]
  },
  {
   "cell_type": "markdown",
   "metadata": {},
   "source": [
    "### 2. How to create a 1D array?"
   ]
  },
  {
   "cell_type": "markdown",
   "metadata": {},
   "source": [
    "2. Q. Create a 1D array of numbers from 0 to 9\n",
    "#### array([0, 1, 2, 3, 4, 5, 6, 7, 8, 9])"
   ]
  },
  {
   "cell_type": "code",
   "execution_count": 5,
   "metadata": {},
   "outputs": [
    {
     "name": "stdout",
     "output_type": "stream",
     "text": [
      "[0 1 2 3 4 5 6 7 8 9]\n"
     ]
    }
   ],
   "source": [
    "s = np.array([0,1,2,3,4,5,6,7,8,9],dtype=np.int)\n",
    "print(s)"
   ]
  },
  {
   "cell_type": "markdown",
   "metadata": {},
   "source": [
    "### 3. How to create a boolean array?"
   ]
  },
  {
   "cell_type": "markdown",
   "metadata": {},
   "source": [
    "3. Q. Create a 3×3 numpy array of all True’s"
   ]
  },
  {
   "cell_type": "code",
   "execution_count": 6,
   "metadata": {},
   "outputs": [
    {
     "name": "stdout",
     "output_type": "stream",
     "text": [
      "[ True  True  True False]\n"
     ]
    }
   ],
   "source": [
    "s = np.array([(3,3),'a',True,False],dtype=np.bool)\n",
    "print(s)"
   ]
  },
  {
   "cell_type": "markdown",
   "metadata": {},
   "source": [
    "### 4. How to extract items that satisfy a given condition from 1D array?"
   ]
  },
  {
   "cell_type": "markdown",
   "metadata": {},
   "source": [
    "4. Q. Extract all odd numbers from arr  \n",
    "##### Input: arr = np.array([0, 1, 2, 3, 4, 5, 6, 7, 8, 9])\n",
    "##### Desired output: #> array([1, 3, 5, 7, 9])"
   ]
  },
  {
   "cell_type": "code",
   "execution_count": 7,
   "metadata": {},
   "outputs": [
    {
     "name": "stdout",
     "output_type": "stream",
     "text": [
      "[0 1 2 3 4 5 6 7 8 9]\n"
     ]
    },
    {
     "data": {
      "text/plain": [
       "array([1, 3, 5, 7, 9])"
      ]
     },
     "execution_count": 7,
     "metadata": {},
     "output_type": "execute_result"
    }
   ],
   "source": [
    " s = np.arange(0,10)\n",
    "print(s)\n",
    "s= s[s%2 !=0]\n",
    "s"
   ]
  },
  {
   "cell_type": "markdown",
   "metadata": {},
   "source": [
    "### 5. How to replace items that satisfy a condition with another value in numpy array?"
   ]
  },
  {
   "cell_type": "markdown",
   "metadata": {},
   "source": [
    "5. Q. Replace all odd numbers in arr with -1  \n",
    "##### Input: >  arr = np.array([0, 1, 2, 3, 4, 5, 6, 7, 8, 9])\n",
    "##### Desired Output:> array([ 0, -1,  2, -1,  4, -1,  6, -1,  8, -1])\n"
   ]
  },
  {
   "cell_type": "code",
   "execution_count": 15,
   "metadata": {},
   "outputs": [
    {
     "data": {
      "text/plain": [
       "array([ 0, -1,  2, -1,  4, -1,  6, -1,  8, -1])"
      ]
     },
     "execution_count": 15,
     "metadata": {},
     "output_type": "execute_result"
    }
   ],
   "source": [
    "s = np.arange(10)\n",
    "indices = [1,3,5,7,9,]\n",
    "r = s[indices]\n",
    "r[0]= -1\n",
    "s\n",
    "s[indices] = -1\n",
    "s"
   ]
  },
  {
   "cell_type": "markdown",
   "metadata": {},
   "source": [
    "### 6. How to replace items that satisfy a condition without affecting the original array?"
   ]
  },
  {
   "cell_type": "markdown",
   "metadata": {},
   "source": [
    "6. Q. Replace all even numbers in arr with 0 without changing arr\n",
    "##### Input: arr = np.array([0, 1, 2, 3, 4, 5, 6, 7, 8, 9])\n",
    "##### out>  array([ 0, 0,  2, 0,  4, 0,  6, 0,  8, 0])\n"
   ]
  },
  {
   "cell_type": "code",
   "execution_count": 16,
   "metadata": {},
   "outputs": [
    {
     "data": {
      "text/plain": [
       "array([0, 0, 2, 0, 4, 0, 6, 0, 8, 0])"
      ]
     },
     "execution_count": 16,
     "metadata": {},
     "output_type": "execute_result"
    }
   ],
   "source": [
    "s = np.arange(10)\n",
    "indices = [0,1,3,5,7,9,]\n",
    "r = s[indices]\n",
    "r[0]= 0\n",
    "s\n",
    "s[indices] = 0\n",
    "s"
   ]
  },
  {
   "cell_type": "markdown",
   "metadata": {},
   "source": [
    "### 7. How to reshape an array?\n",
    "7. Q. Convert a 1D array to a 2D array with 2 rows\n",
    "##### Input: np.arange(10)\n",
    "#> array([ 0, 1, 2, 3, 4, 5, 6, 7, 8, 9])\n",
    "##### Desired Output:\n",
    "#> array([[0, 1, 2, 3, 4],[5, 6, 7, 8, 9]])\n"
   ]
  },
  {
   "cell_type": "code",
   "execution_count": 26,
   "metadata": {},
   "outputs": [
    {
     "data": {
      "text/plain": [
       "array(['0', '1', '2', '3', '4', '5', '6', '7', '8', '9'], dtype='<U1')"
      ]
     },
     "execution_count": 26,
     "metadata": {},
     "output_type": "execute_result"
    }
   ],
   "source": [
    "s =np.arange(10)\n",
    "s = np.array(s)\n",
    "s\n",
    "s = np.array([0,1,2,3,4,5,6,7,8,9],dtype='<U1')\n",
    "s.reshape(-1,2)\n",
    "s"
   ]
  },
  {
   "cell_type": "markdown",
   "metadata": {},
   "source": [
    "### 8. How to stack two arrays vertically?\n",
    "8. Q. Stack arrays a and b vertically\n",
    "Input  \n",
    "a = np.arange(10).reshape(2,-1)  \n",
    "b = np.repeat(1, 10).reshape(2,-1)  \n",
    "Desired Output:  \n",
    "#> array([[0, 1, 2, 3, 4],  \n",
    "#>        [5, 6, 7, 8, 9],  \n",
    "#>        [1, 1, 1, 1, 1],  \n",
    "#>        [1, 1, 1, 1, 1]])\n"
   ]
  },
  {
   "cell_type": "code",
   "execution_count": 31,
   "metadata": {},
   "outputs": [
    {
     "data": {
      "text/plain": [
       "array([[0, 1, 2, 3, 4],\n",
       "       [5, 6, 7, 8, 9],\n",
       "       [1, 1, 1, 1, 1],\n",
       "       [1, 1, 1, 1, 1]])"
      ]
     },
     "execution_count": 31,
     "metadata": {},
     "output_type": "execute_result"
    }
   ],
   "source": [
    "s = np.arange(10).reshape(2,-1)\n",
    "b = np.repeat(1, 10).reshape(2,-1)\n",
    "s = np.vstack((s,b))\n",
    "s"
   ]
  },
  {
   "cell_type": "markdown",
   "metadata": {},
   "source": [
    "### 9. How to stack two arrays horizontally?\n",
    "9. Q. Stack the arrays a and b horizontally.\n",
    "##### Input  \n",
    "a = np.arange(10).reshape(2,-1)  \n",
    "b = np.repeat(1, 10).reshape(2,-1)  \n",
    "##### Desired Output:  \n",
    "#> array([[0, 1, 2, 3, 4, 1, 1, 1, 1, 1],  \n",
    "#>        [5, 6, 7, 8, 9, 1, 1, 1, 1, 1]])\n"
   ]
  },
  {
   "cell_type": "code",
   "execution_count": 33,
   "metadata": {},
   "outputs": [
    {
     "data": {
      "text/plain": [
       "array([[0, 1, 2, 3, 4, 1, 1, 1, 1, 1],\n",
       "       [5, 6, 7, 8, 9, 1, 1, 1, 1, 1]])"
      ]
     },
     "execution_count": 33,
     "metadata": {},
     "output_type": "execute_result"
    }
   ],
   "source": [
    "s = np.arange(10).reshape(2,-1)\n",
    "b = np.repeat(1, 10).reshape(2,-1)\n",
    "s = np.hstack((s,b))\n",
    "s"
   ]
  },
  {
   "cell_type": "markdown",
   "metadata": {},
   "source": [
    "### 10. How to generate custom sequences in numpy without hardcoding?\n",
    "1. Q. Create the following pattern without hardcoding. Use only numpy functions and the below input array a.\n",
    "##### Input:  \n",
    "a = np.array([1,2,3])\n",
    "##### Desired Output:  \n",
    "#> array([1, 1, 1, 2, 2, 2, 3, 3, 3, 1, 2, 3, 1, 2, 3, 1, 2, 3])\n"
   ]
  },
  {
   "cell_type": "code",
   "execution_count": 52,
   "metadata": {},
   "outputs": [
    {
     "data": {
      "text/plain": [
       "array([1, 1, 1, 2, 2, 2, 3, 3, 3, 1, 2, 3, 1, 2, 3, 1, 2, 3])"
      ]
     },
     "execution_count": 52,
     "metadata": {},
     "output_type": "execute_result"
    }
   ],
   "source": [
    "s = np.array([1,2,3])\n",
    "np.r_[np.repeat(s,3),np.tile(s,3)]\n"
   ]
  },
  {
   "cell_type": "markdown",
   "metadata": {},
   "source": [
    "### 11. How to get the common items between two python numpy arrays?\n",
    "11. Q. Get the common items between a and b\n",
    "#### Input:\n",
    "a = np.array([1,2,3,2,3,4,3,4,5,6])  \n",
    "b = np.array([7,2,10,2,7,4,9,4,9,8])\n",
    "##### Desired Output:\n",
    "array([2, 4])\n"
   ]
  },
  {
   "cell_type": "code",
   "execution_count": 54,
   "metadata": {},
   "outputs": [
    {
     "data": {
      "text/plain": [
       "array([2, 4])"
      ]
     },
     "execution_count": 54,
     "metadata": {},
     "output_type": "execute_result"
    }
   ],
   "source": [
    "s = np.array([1,2,3,2,3,4,3,4,5,6])\n",
    "b = np.array([7,2,10,2,7,4,9,4,9,8])\n",
    "np.intersect1d(s,b)"
   ]
  },
  {
   "cell_type": "markdown",
   "metadata": {},
   "source": [
    "### 12. How to remove from one array those items that exist in another?\n",
    "12. Q. From array a remove all items present in array b\n",
    "\n",
    "##### Input:\n",
    "a = np.array([1,2,3,4,5])  \n",
    "b = np.array([5,6,7,8,9])\n",
    "##### Desired Output:  \n",
    "array([1,2,3,4])\n"
   ]
  },
  {
   "cell_type": "code",
   "execution_count": 55,
   "metadata": {},
   "outputs": [
    {
     "data": {
      "text/plain": [
       "array([1, 2, 3, 4])"
      ]
     },
     "execution_count": 55,
     "metadata": {},
     "output_type": "execute_result"
    }
   ],
   "source": [
    "s = np.array([1,2,3,4,5])\n",
    "b = np.array([5,6,7,8,9])\n",
    "np.setdiff1d(s,b)"
   ]
  },
  {
   "cell_type": "markdown",
   "metadata": {},
   "source": [
    "### 13. How to get the positions where elements of two arrays match?\n",
    "13. Q. Get the positions where elements of a and b match\n",
    "##### Input:\n",
    "a = np.array([1,2,3,2,3,4,3,4,5,6])  \n",
    "b = np.array([7,2,10,2,7,4,9,4,9,8])\n",
    "##### Desired Output:\n",
    "#> array([1, 3, 5, 7])\n"
   ]
  },
  {
   "cell_type": "code",
   "execution_count": 56,
   "metadata": {},
   "outputs": [
    {
     "data": {
      "text/plain": [
       "(array([1, 3, 5, 7], dtype=int64),)"
      ]
     },
     "execution_count": 56,
     "metadata": {},
     "output_type": "execute_result"
    }
   ],
   "source": [
    "s = np.array([1,2,3,2,3,4,3,4,5,6])\n",
    "b = np.array([7,2,10,2,7,4,9,4,9,8])\n",
    "np.where(s==b)"
   ]
  },
  {
   "cell_type": "markdown",
   "metadata": {},
   "source": [
    "### 14. How to extract all numbers between a given range from a numpy array?\n",
    "14. Q. Get all items between 5 and 10 from a.\n",
    "\n",
    "##### Input:\n",
    "a = np.array([2, 6, 1, 9, 10, 3, 27])\n",
    "###### Desired Output:\n",
    "\n",
    "#> array([6, 9, 10])"
   ]
  },
  {
   "cell_type": "code",
   "execution_count": 57,
   "metadata": {},
   "outputs": [
    {
     "data": {
      "text/plain": [
       "array([ 6,  9, 10])"
      ]
     },
     "execution_count": 57,
     "metadata": {},
     "output_type": "execute_result"
    }
   ],
   "source": [
    "s = np.array([2, 6, 1, 9, 10, 3, 27])\n",
    "s[(s>=5)&(s<=10)]"
   ]
  },
  {
   "cell_type": "markdown",
   "metadata": {},
   "source": [
    "### 15. How to make a python function that handles scalars to work on numpy arrays?\n",
    "15. Q. Convert the function maxx that works on two scalars, to work on two arrays."
   ]
  },
  {
   "cell_type": "markdown",
   "metadata": {},
   "source": [
    "##### Input: "
   ]
  },
  {
   "cell_type": "code",
   "execution_count": 62,
   "metadata": {},
   "outputs": [
    {
     "data": {
      "text/plain": [
       "5"
      ]
     },
     "execution_count": 62,
     "metadata": {},
     "output_type": "execute_result"
    }
   ],
   "source": [
    "def maxx(x, y):\n",
    "    \"\"\"Get the maximum of two items\"\"\"\n",
    "    if x >= y:\n",
    "        return x\n",
    "    else:\n",
    "        return y\n",
    "\n",
    "maxx(1, 5)\n",
    "\n"
   ]
  },
  {
   "cell_type": "markdown",
   "metadata": {},
   "source": [
    "###### Desired Output:\n",
    "a = np.array([5, 7, 9, 8, 6, 4, 5])  \n",
    "b = np.array([6, 3, 4, 8, 9, 7, 1])  \n",
    "pair_max(a, b)  \n",
    "#> array([ 6.,  7.,  9.,  8.,  9.,  7.,  5.])"
   ]
  },
  {
   "cell_type": "code",
   "execution_count": 67,
   "metadata": {},
   "outputs": [
    {
     "data": {
      "text/plain": [
       "array([1, 2, 3, 2, 3, 4, 3, 4, 5, 6])"
      ]
     },
     "metadata": {},
     "output_type": "display_data"
    },
    {
     "data": {
      "text/plain": [
       "array([ 7,  2, 10,  2,  7,  4,  9,  4,  9,  8])"
      ]
     },
     "metadata": {},
     "output_type": "display_data"
    }
   ],
   "source": [
    "pair_max=np.vectorize(maxx,otypes=[float])\n",
    "display(a,b)"
   ]
  },
  {
   "cell_type": "markdown",
   "metadata": {},
   "source": [
    "### 16. How to swap two columns in a 2d numpy array?\n",
    "16.Q. Swap columns 1 and 2 in the array arr.\n",
    "\n",
    "arr = np.arange(9).reshape(3,3)\n",
    "arr\n"
   ]
  },
  {
   "cell_type": "code",
   "execution_count": 71,
   "metadata": {},
   "outputs": [
    {
     "data": {
      "text/plain": [
       "array([[0, 1, 2],\n",
       "       [3, 4, 5],\n",
       "       [6, 7, 8]])"
      ]
     },
     "execution_count": 71,
     "metadata": {},
     "output_type": "execute_result"
    }
   ],
   "source": [
    "arr = np.arange(9).reshape(3,3)\n",
    "arr[:,[1,0,2]]\n",
    "arr"
   ]
  },
  {
   "cell_type": "markdown",
   "metadata": {},
   "source": [
    "### 17. How to swap two rows in a 2d numpy array?\n",
    "17.Q. Swap rows 1 and 2 in the array arr:\n",
    "\n",
    "arr = np.arange(9).reshape(3,3)  \n",
    "arr\n",
    "\n"
   ]
  },
  {
   "cell_type": "code",
   "execution_count": 73,
   "metadata": {},
   "outputs": [
    {
     "data": {
      "text/plain": [
       "array([[0, 1, 2],\n",
       "       [3, 4, 5],\n",
       "       [6, 7, 8]])"
      ]
     },
     "execution_count": 73,
     "metadata": {},
     "output_type": "execute_result"
    }
   ],
   "source": [
    "arr = np.arange(9).reshape(3,3)\n",
    "arr[[1,0,2],:]\n",
    "arr\n"
   ]
  },
  {
   "cell_type": "code",
   "execution_count": 3,
   "metadata": {},
   "outputs": [
    {
     "name": "stdout",
     "output_type": "stream",
     "text": [
      "Resultat : 2.8583865351131745\n"
     ]
    }
   ],
   "source": [
    "#Calcul de la vitesse (vitesse=distance//temps)\n",
    "distance=(19.7)\n",
    "temps=(6.892)\n",
    "vitesse=19.7/6.892\n",
    "print(\"Resultat :\",vitesse)"
   ]
  },
  {
   "cell_type": "code",
   "execution_count": 5,
   "metadata": {
    "scrolled": true
   },
   "outputs": [
    {
     "name": "stdout",
     "output_type": "stream",
     "text": [
      "Le Nom est Yvel Marcelin\n",
      "L'age est  28 ans\n",
      "Yvel Marcelin 28 ans\n"
     ]
    }
   ],
   "source": [
    "#afficher non et l'age\n",
    "nom= input(\"Le Nom est \")\n",
    "age= input(\"L'age est  \")\n",
    "print(nom,age)"
   ]
  },
  {
   "cell_type": "code",
   "execution_count": 16,
   "metadata": {},
   "outputs": [
    {
     "name": "stdout",
     "output_type": "stream",
     "text": [
      "Entre la valeur Pression Courrant : 4\n",
      "Entrer la valeur Volume Courrant : 52\n"
     ]
    },
    {
     "ename": "TypeError",
     "evalue": "'>=' not supported between instances of 'type' and 'float'",
     "output_type": "error",
     "traceback": [
      "\u001b[1;31m---------------------------------------------------------------------------\u001b[0m",
      "\u001b[1;31mTypeError\u001b[0m                                 Traceback (most recent call last)",
      "\u001b[1;32m<ipython-input-16-70b200bdc0dd>\u001b[0m in \u001b[0;36m<module>\u001b[1;34m\u001b[0m\n\u001b[0;32m      6\u001b[0m \u001b[0mvc\u001b[0m\u001b[1;33m=\u001b[0m\u001b[0minput\u001b[0m\u001b[1;33m(\u001b[0m\u001b[1;34m\"Entrer la valeur Volume Courrant : \"\u001b[0m\u001b[1;33m)\u001b[0m\u001b[1;33m\u001b[0m\u001b[1;33m\u001b[0m\u001b[0m\n\u001b[0;32m      7\u001b[0m \u001b[0mvc\u001b[0m\u001b[1;33m=\u001b[0m \u001b[1;33m(\u001b[0m\u001b[0mfloat\u001b[0m\u001b[1;33m)\u001b[0m\u001b[1;33m\u001b[0m\u001b[1;33m\u001b[0m\u001b[0m\n\u001b[1;32m----> 8\u001b[1;33m \u001b[1;32mif\u001b[0m \u001b[1;33m(\u001b[0m\u001b[0mvc\u001b[0m \u001b[1;33m>=\u001b[0m \u001b[0mvs\u001b[0m\u001b[1;33m)\u001b[0m \u001b[1;32mand\u001b[0m \u001b[1;33m(\u001b[0m\u001b[0mpc\u001b[0m \u001b[1;33m>=\u001b[0m \u001b[0mps\u001b[0m\u001b[1;33m)\u001b[0m\u001b[1;33m:\u001b[0m\u001b[1;33m\u001b[0m\u001b[1;33m\u001b[0m\u001b[0m\n\u001b[0m\u001b[0;32m      9\u001b[0m     \u001b[0mprint\u001b[0m\u001b[1;33m(\u001b[0m\u001b[1;34m'Attention diminuer la pression {} et le volume {}: '\u001b[0m\u001b[1;33m.\u001b[0m\u001b[0mformat\u001b[0m\u001b[1;33m(\u001b[0m\u001b[0mpc\u001b[0m\u001b[1;33m,\u001b[0m \u001b[0mvc\u001b[0m\u001b[1;33m)\u001b[0m\u001b[1;33m)\u001b[0m\u001b[1;33m\u001b[0m\u001b[1;33m\u001b[0m\u001b[0m\n\u001b[0;32m     10\u001b[0m \u001b[1;32melif\u001b[0m \u001b[1;33m(\u001b[0m\u001b[0mpc\u001b[0m \u001b[1;33m>=\u001b[0m \u001b[0mps\u001b[0m\u001b[1;33m)\u001b[0m\u001b[1;33m:\u001b[0m\u001b[1;33m\u001b[0m\u001b[1;33m\u001b[0m\u001b[0m\n",
      "\u001b[1;31mTypeError\u001b[0m: '>=' not supported between instances of 'type' and 'float'"
     ]
    }
   ],
   "source": [
    "##Securiser une pression d'un seuil\n",
    "ps=(2.3)\n",
    "vs=(7.41)\n",
    "pc=input(\"Entre la valeur Pression Courrant : \")\n",
    "pc=(float)\n",
    "vc=input(\"Entrer la valeur Volume Courrant : \")\n",
    "vc= (float)\n",
    "if (vc >= vs) and (pc >= ps):\n",
    "    print('Attention diminuer la pression {} et le volume {}: '.format(pc, vc))\n",
    "elif (pc >= ps):\n",
    "    print('Attentionn diminuer la pression du seuil {}: '.format(pc))\n",
    "elif (vc >= vs):\n",
    "    print('Attention diminuer le volume {}'.format(vc))\n",
    "else:\n",
    "    print(\"L'enceinte est stable bravo....!\")\n",
    "        \n",
    "\n"
   ]
  },
  {
   "cell_type": "code",
   "execution_count": 1,
   "metadata": {},
   "outputs": [
    {
     "name": "stdout",
     "output_type": "stream",
     "text": [
      "la Valeur de a 0\n",
      "la Valeur de a 1\n",
      "la Valeur de a 2\n",
      "la Valeur de a 3\n",
      "la Valeur de a 4\n",
      "la Valeur de a 5\n",
      "la Valeur de a 6\n",
      "la Valeur de a 7\n",
      "la Valeur de a 8\n",
      "la Valeur de a 9\n"
     ]
    }
   ],
   "source": [
    "a = 0\n",
    "b = 10\n",
    "while a < b:\n",
    "    print(\"la Valeur de a {}\".format(a))\n",
    "    a+=1"
   ]
  },
  {
   "cell_type": "code",
   "execution_count": null,
   "metadata": {},
   "outputs": [],
   "source": []
  }
 ],
 "metadata": {
  "kernelspec": {
   "display_name": "Python 3",
   "language": "python",
   "name": "python3"
  },
  "language_info": {
   "codemirror_mode": {
    "name": "ipython",
    "version": 3
   },
   "file_extension": ".py",
   "mimetype": "text/x-python",
   "name": "python",
   "nbconvert_exporter": "python",
   "pygments_lexer": "ipython3",
   "version": "3.7.4"
  }
 },
 "nbformat": 4,
 "nbformat_minor": 4
}
